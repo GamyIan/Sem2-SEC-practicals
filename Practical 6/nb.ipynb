{
 "cells": [
  {
   "cell_type": "code",
   "execution_count": null,
   "metadata": {},
   "outputs": [
    {
     "name": "stdout",
     "output_type": "stream",
     "text": [
      "[2, 3, 5, 7]\n"
     ]
    }
   ],
   "source": [
    "# Calculate prime numbers between n1 and n2 using class and object\n",
    "\n",
    "class Prime:\n",
    "    def __init__(self,n1,n2):\n",
    "        self.low=n1\n",
    "        self.high=n2\n",
    "        self.l=[]\n",
    "        self.calc()\n",
    "    def isPrime(self,n):\n",
    "        for i in range(2,n//2+1):\n",
    "            if n%i==0:\n",
    "                return False\n",
    "        return True\n",
    "    def calc(self):\n",
    "        for i in range(self.low,self.high+1):\n",
    "            if self.isPrime(i):\n",
    "                self.l.append(i)\n",
    "                \n",
    "\n",
    "pr=Prime(2,10)\n",
    "print(pr.l)"
   ]
  },
  {
   "cell_type": "code",
   "execution_count": null,
   "metadata": {},
   "outputs": [
    {
     "name": "stdout",
     "output_type": "stream",
     "text": [
      "==================================================\n",
      "ID: 123\n",
      "Name: Ian Reddy\n",
      "Account Type: savings\n",
      "Balance: 2000\n",
      "==================================================\n",
      "5000rs Added to savings account 123\n",
      "Current balance is: 7000\n",
      "400rs withdrawn from savings account 123\n",
      "Current balance is: 6600\n",
      "==================================================\n",
      "ID: 123\n",
      "Name: Ian Reddy\n",
      "Account Type: savings\n",
      "Balance: 6600\n",
      "==================================================\n"
     ]
    }
   ],
   "source": [
    "# Bank Account\n",
    "class BankAccount:\n",
    "    def __init__(self,id,name,balance,type):\n",
    "        self.id=id\n",
    "        self.name=name\n",
    "        self.balance=balance\n",
    "        types=['savings','current','FD']\n",
    "        type=type.lower()\n",
    "        self.type=type\n",
    "        match self.type:\n",
    "            case \"savings\":\n",
    "                self.limit=5\n",
    "            case \"current\":\n",
    "                self.limit=0\n",
    "            case \"FD\":\n",
    "                self.limit=0\n",
    "            case _:\n",
    "                print(\"Invalid Account type\")\n",
    "           \n",
    "    def deposit(self,amt):\n",
    "        if amt>0:\n",
    "            self.balance+=amt\n",
    "            print(f\"{amt}rs Added to {self.type} account {self.id}\\nCurrent balance is: {self.balance}\")\n",
    "        else:\n",
    "            print(\"Error\")\n",
    "    def withdraw(self,amt):\n",
    "        if self.balance>=amt:\n",
    "            match self.type:\n",
    "                case \"savings\":\n",
    "                    if self.limit>0:\n",
    "                        self.balance-=amt\n",
    "                        print(f\"{amt}rs withdrawn from {self.type} account {self.id}\\nCurrent balance is: {self.balance}\")\n",
    "                    else:\n",
    "                        print(f\"Out of Withdrawals\")\n",
    "                case \"current\":\n",
    "                    self.balance-=amt\n",
    "                    print(f\"{amt}rs withdrawn from {self.type} account {self.id}\\nCurrent balance is: {self.balance}\")\n",
    "                case \"FD\":\n",
    "                    inp=input(\"You can withdraw only the entire account.\\nDo you wish to proceed?(y/n)\")\n",
    "                    if inp==\"y\":\n",
    "                        self.balance=0\n",
    "                    else:\n",
    "                        print(\"Aborted...\")\n",
    "                case _:\n",
    "                    print(\"Invalid Account type\")\n",
    "        else:\n",
    "            print(f\"Amount is too high. Your balance is only {self.balance}\")\n",
    "    def check(self):\n",
    "        print(\"=\"*50)\n",
    "        print(f\"ID: {self.id}\")\n",
    "        print(f\"Name: {self.name}\")\n",
    "        print(f\"Account Type: {self.type}\")\n",
    "        print(f\"Balance: {self.balance}\")\n",
    "        print(\"=\"*50)\n",
    "        \n",
    "Account=BankAccount(123,\"Ian Reddy\",2000,\"savings\")\n",
    "Account.check()\n",
    "Account.deposit(5000)\n",
    "Account.withdraw(400)\n",
    "Account.check()"
   ]
  },
  {
   "cell_type": "code",
   "execution_count": null,
   "metadata": {},
   "outputs": [],
   "source": []
  }
 ],
 "metadata": {
  "kernelspec": {
   "display_name": "Python 3",
   "language": "python",
   "name": "python3"
  },
  "language_info": {
   "codemirror_mode": {
    "name": "ipython",
    "version": 3
   },
   "file_extension": ".py",
   "mimetype": "text/x-python",
   "name": "python",
   "nbconvert_exporter": "python",
   "pygments_lexer": "ipython3",
   "version": "3.12.1"
  }
 },
 "nbformat": 4,
 "nbformat_minor": 2
}
