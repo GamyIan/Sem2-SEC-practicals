{
 "cells": [
  {
   "cell_type": "markdown",
   "metadata": {},
   "source": [
    "# Structured Numpy"
   ]
  },
  {
   "cell_type": "markdown",
   "metadata": {},
   "source": [
    "### Concepts\n",
    "Note: These are just for understanding, they're not part of the practical. Start from [here](https://github.com/GamyIan/Sem2-SEC-practicals/blob/main/Practical%202/Structured%20Numpy.ipynb#L1)."
   ]
  },
  {
   "cell_type": "code",
   "execution_count": 4,
   "metadata": {},
   "outputs": [],
   "source": [
    "# Importing data\n",
    "import numpy as np # type: ignore"
   ]
  },
  {
   "cell_type": "code",
   "execution_count": 5,
   "metadata": {},
   "outputs": [
    {
     "name": "stdout",
     "output_type": "stream",
     "text": [
      "[(101, 'Widget A', 50, 10.5 , '01-01-2023')\n",
      " (102, 'Widget B', 30,  8.75, '02-01-2023')\n",
      " (103, 'Widget A', 20, 10.5 , '02-01-2023')\n",
      " (104, 'Widget C', 15, 15.2 , '03-01-2023')\n",
      " (105, 'Widget B', 40,  8.75, '03-01-2023')\n",
      " (106, 'Widget A', 25, 10.5 , '04-01-2023')\n",
      " (107, 'Widget C', 35, 15.2 , '05-01-2023')\n",
      " (108, 'Widget B', 10,  8.75, '05-01-2023')\n",
      " (109, 'Widget A', 15, 10.5 , '06-01-2023')\n",
      " (110, 'Widget C', 45, 15.2 , '06-01-2023')\n",
      " (111, 'Widget C', 40, 15.  , '06-01-2023')]\n"
     ]
    }
   ],
   "source": [
    "# Loading and printing Data\n",
    "sales_data=np.genfromtxt('order.csv',dtype=None,delimiter=',',names=True,encoding=None)\n",
    "print(sales_data)"
   ]
  },
  {
   "cell_type": "code",
   "execution_count": 6,
   "metadata": {},
   "outputs": [
    {
     "name": "stdout",
     "output_type": "stream",
     "text": [
      "['Widget A' 'Widget B' 'Widget A' 'Widget C' 'Widget B' 'Widget A'\n",
      " 'Widget C' 'Widget B' 'Widget A' 'Widget C' 'Widget C']\n",
      "======================================================================\n",
      "[('Widget A', 50) ('Widget B', 30) ('Widget A', 20) ('Widget C', 15)\n",
      " ('Widget B', 40) ('Widget A', 25) ('Widget C', 35) ('Widget B', 10)\n",
      " ('Widget A', 15) ('Widget C', 45) ('Widget C', 40)]\n"
     ]
    }
   ],
   "source": [
    "# Displaying a specific column\n",
    "print(sales_data['Product'])\n",
    "# Displaying multiple columns\n",
    "print(f\"{\"=\"*70}\")\n",
    "print(sales_data[['Product','Quantity']])"
   ]
  },
  {
   "cell_type": "code",
   "execution_count": 7,
   "metadata": {},
   "outputs": [
    {
     "name": "stdout",
     "output_type": "stream",
     "text": [
      "[('Widget A', 50) ('Widget B', 40) ('Widget C', 35) ('Widget C', 45)\n",
      " ('Widget C', 40)]\n"
     ]
    }
   ],
   "source": [
    "# Displaying conditional data\n",
    "print(sales_data[sales_data['Quantity']>30][['Product','Quantity']])"
   ]
  },
  {
   "cell_type": "code",
   "execution_count": 8,
   "metadata": {},
   "outputs": [
    {
     "name": "stdout",
     "output_type": "stream",
     "text": [
      "Sum of Qty: 325\n",
      "Mean of Qty: 29.545454545454547\n",
      "Unique of Product: ['Widget A' 'Widget B' 'Widget C']\n",
      "Count of Products: 11\n",
      "Unique Products: 3\n"
     ]
    }
   ],
   "source": [
    "# Sum of all quantity\n",
    "print(f\"Sum of Qty: {np.sum(sales_data['Quantity'])}\")\n",
    "# Mean of quantity\n",
    "print(f\"Mean of Qty: {np.mean(sales_data['Quantity'])}\")\n",
    "# Unique of Product\n",
    "print(f\"Unique of Product: {np.unique(sales_data['Product'])}\")\n",
    "# Count number of non-zero elements\n",
    "print(f\"Count of Products: {np.count_nonzero(sales_data['Product'])}\")\n",
    "# Count of unique products\n",
    "print(f\"Unique Products: {np.count_nonzero(np.unique(sales_data['Product']))}\")"
   ]
  },
  {
   "cell_type": "markdown",
   "metadata": {},
   "source": [
    "## Question 1\n",
    "Write a query to give total quantities of each unique Product"
   ]
  },
  {
   "cell_type": "code",
   "execution_count": 9,
   "metadata": {},
   "outputs": [
    {
     "name": "stdout",
     "output_type": "stream",
     "text": [
      "[['Product' 'Qty']\n",
      " ['Widget A' '110']\n",
      " ['Widget B' '80']\n",
      " ['Widget C' '135']]\n"
     ]
    }
   ],
   "source": [
    "lis=[[\"Product\", \"Qty\"]]\n",
    "for product in np.unique(sales_data['Product']):\n",
    "    l=[product,np.sum(sales_data[sales_data[\"Product\"]==product][\"Quantity\"])]\n",
    "    lis.append(l)\n",
    "arr=np.array(lis)\n",
    "print(arr)"
   ]
  },
  {
   "cell_type": "code",
   "execution_count": null,
   "metadata": {},
   "outputs": [],
   "source": []
  },
  {
   "cell_type": "code",
   "execution_count": null,
   "metadata": {},
   "outputs": [],
   "source": []
  }
 ],
 "metadata": {
  "kernelspec": {
   "display_name": "Python 3",
   "language": "python",
   "name": "python3"
  },
  "language_info": {
   "codemirror_mode": {
    "name": "ipython",
    "version": 3
   },
   "file_extension": ".py",
   "mimetype": "text/x-python",
   "name": "python",
   "nbconvert_exporter": "python",
   "pygments_lexer": "ipython3",
   "version": "3.12.1"
  }
 },
 "nbformat": 4,
 "nbformat_minor": 2
}
