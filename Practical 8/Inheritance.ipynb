{
 "cells": [
  {
   "cell_type": "code",
   "execution_count": null,
   "metadata": {},
   "outputs": [],
   "source": [
    "# Q1:\n",
    "class Employee: # Base/Parent Class\n",
    "    def __init__(self,name,sal):\n",
    "        self.name=name\n",
    "        self.sal=sal\n",
    "        \n",
    "        \n",
    "class Manager(Employee):   # Manager is a child of Employee\n",
    "    def __init__(self,name,sal,dept):\n",
    "        super().__init__(name,sal)\n",
    "        self.dept=dept\n",
    "    def display(self):\n",
    "        print(f\"Name: {self.name}\")\n",
    "        print(f\"Salary: {self.sal}\")\n",
    "        print(f\"Department: {self.dept}\")\n",
    "class Developer(Employee):\n",
    "    def __init__(self,name,sal,lang):\n",
    "        super().__init__(name,sal)\n",
    "        self.lang=lang\n",
    "    def display(self):\n",
    "        print(f\"Name: {self.name}\")\n",
    "        print(f\"Salary: {self.sal}\")\n",
    "        print(f\"Language: {self.lang}\")\n",
    "    \n",
    "m1=Manager(\"John\",30000,\"IT\")\n",
    "dev1=Developer(\"Onasex\",40000,\"C++\")\n",
    "\n",
    "m1.display()\n",
    "print(\"=\"*50)\n",
    "dev1.display()"
   ]
  },
  {
   "cell_type": "code",
   "execution_count": null,
   "metadata": {},
   "outputs": [],
   "source": [
    "# Q2:\n",
    "# Write python cocde to calculate greatest of 2 numbers using inheritance\n",
    "# Class: Number 1 has attribute x\n",
    "# Class: Number 2 inherits x and has another number y and also calculates the greatest\n",
    "\n",
    "class Number1:\n",
    "    def __init__(self,x):\n",
    "        self.x=x\n",
    "        \n",
    "class Number2(Number1):\n",
    "    def __init__(self,x,y):\n",
    "        super().__init__(x)\n",
    "        self.y=y\n",
    "    def calc(self):\n",
    "        if self.x==self.y:\n",
    "            print(f\"Both are equal\")\n",
    "        elif self.x>self.y:\n",
    "            print(f\"{self.x} is greater than {self.y}\")\n",
    "        else:\n",
    "            print(f\"{self.y} is greater than {self.x}\")\n",
    "\n",
    "\n",
    "x=int(input(\"Enter number 1: \"))     \n",
    "y=int(input(\"Enter number 2: \"))     \n",
    "z=Number2(x,y)\n",
    "z.calc()"
   ]
  },
  {
   "cell_type": "code",
   "execution_count": null,
   "metadata": {},
   "outputs": [],
   "source": [
    "# Q3: Do from the image"
   ]
  }
 ],
 "metadata": {
  "language_info": {
   "name": "python"
  }
 },
 "nbformat": 4,
 "nbformat_minor": 2
}
