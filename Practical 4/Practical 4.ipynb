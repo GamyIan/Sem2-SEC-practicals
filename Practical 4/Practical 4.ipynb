{
 "cells": [
  {
   "cell_type": "code",
   "execution_count": 1,
   "metadata": {},
   "outputs": [],
   "source": [
    "import numpy as np\n",
    "import pandas as pd"
   ]
  },
  {
   "cell_type": "code",
   "execution_count": 2,
   "metadata": {},
   "outputs": [
    {
     "name": "stdout",
     "output_type": "stream",
     "text": [
      "   Order_ID Product_Name     Category  Price  Quantity Customer_ID  Order_Date\n",
      "0         1       Laptop  Electronics   1200         2        C101  01-01-2024\n",
      "1         2   Headphones  Electronics     80         3        C102  02-01-2024\n",
      "2         3        Chair    Furniture    150         1        C103  03-01-2024\n",
      "3         4   Smartphone  Electronics    600         1        C104  04-01-2024\n",
      "4         5         Desk    Furniture    200         2        C105  05-01-2024\n"
     ]
    }
   ],
   "source": [
    "# Displaying first 5 records\n",
    "df = pd.read_csv(\"E-Commerce.csv\")\n",
    "print(df.head())"
   ]
  },
  {
   "cell_type": "code",
   "execution_count": 6,
   "metadata": {},
   "outputs": [
    {
     "name": "stdout",
     "output_type": "stream",
     "text": [
      "<class 'pandas.core.frame.DataFrame'>\n",
      "RangeIndex: 30 entries, 0 to 29\n",
      "Data columns (total 7 columns):\n",
      " #   Column        Non-Null Count  Dtype \n",
      "---  ------        --------------  ----- \n",
      " 0   Order_ID      30 non-null     int64 \n",
      " 1   Product_Name  30 non-null     object\n",
      " 2   Category      30 non-null     object\n",
      " 3   Price         30 non-null     int64 \n",
      " 4   Quantity      30 non-null     int64 \n",
      " 5   Customer_ID   30 non-null     object\n",
      " 6   Order_Date    30 non-null     object\n",
      "dtypes: int64(3), object(4)\n",
      "memory usage: 1.8+ KB\n"
     ]
    }
   ],
   "source": [
    "df.info() # Showing basic information about the dataset, including data types and non-null values"
   ]
  },
  {
   "cell_type": "code",
   "execution_count": 8,
   "metadata": {},
   "outputs": [
    {
     "data": {
      "text/plain": [
       "Index(['Order_ID', 'Product_Name', 'Category', 'Price', 'Quantity',\n",
       "       'Customer_ID', 'Order_Date'],\n",
       "      dtype='object')"
      ]
     },
     "execution_count": 8,
     "metadata": {},
     "output_type": "execute_result"
    }
   ],
   "source": [
    "df.columns # List column names in the dataset"
   ]
  },
  {
   "cell_type": "markdown",
   "metadata": {},
   "source": [
    "### Null Values\n",
    "- Finding Null values is important to building machine learning model\n",
    "- Model treats null as a value, we need to take care of it\n",
    "- Either remove it, or Replace it with mean or median value."
   ]
  },
  {
   "cell_type": "code",
   "execution_count": 12,
   "metadata": {},
   "outputs": [
    {
     "data": {
      "text/plain": [
       "Order_ID        0\n",
       "Product_Name    0\n",
       "Category        0\n",
       "Price           0\n",
       "Quantity        0\n",
       "Customer_ID     0\n",
       "Order_Date      0\n",
       "dtype: int64"
      ]
     },
     "execution_count": 12,
     "metadata": {},
     "output_type": "execute_result"
    }
   ],
   "source": [
    "df.isnull().sum()"
   ]
  },
  {
   "cell_type": "code",
   "execution_count": 14,
   "metadata": {},
   "outputs": [
    {
     "name": "stdout",
     "output_type": "stream",
     "text": [
      "['Electronics' 'Furniture' 'Apparel' 'Books' 'Accessories' 'Beauty']\n"
     ]
    }
   ],
   "source": [
    "# Display Unique values in Category column\n",
    "print(df[\"Category\"].unique())"
   ]
  },
  {
   "cell_type": "code",
   "execution_count": 16,
   "metadata": {},
   "outputs": [
    {
     "name": "stdout",
     "output_type": "stream",
     "text": [
      "61\n"
     ]
    }
   ],
   "source": [
    "print(df['Quantity'].sum()) # Display total number of products sold"
   ]
  },
  {
   "cell_type": "code",
   "execution_count": 26,
   "metadata": {},
   "outputs": [
    {
     "name": "stdout",
     "output_type": "stream",
     "text": [
      "82.5\n"
     ]
    }
   ],
   "source": [
    "# Calculate avg price of products in each category\n",
    "c=df.groupby(\"Category\")[\"Price\"].mean().round(2)\n",
    "# Avg price of accesories\n",
    "print(c[\"Accessories\"]) # It is a series and so each value acts like the key"
   ]
  },
  {
   "cell_type": "code",
   "execution_count": 31,
   "metadata": {},
   "outputs": [
    {
     "name": "stdout",
     "output_type": "stream",
     "text": [
      "<class 'pandas.core.frame.DataFrame'>\n",
      "      Category  Average_Price\n",
      "0  Accessories          82.50\n",
      "1      Apparel          37.50\n",
      "2       Beauty          27.50\n",
      "3        Books          17.50\n",
      "4  Electronics         420.00\n",
      "5    Furniture         196.67\n"
     ]
    }
   ],
   "source": [
    "# How to convert the series into a dataframe\n",
    "cf=c.to_frame()\n",
    "print(type(cf))\n",
    "# Can also do it with reset_index\n",
    "cf=c.reset_index()\n",
    "cf.columns=['Category',\"Average_Price\"] # This allows us to change column names by using reset_index\n",
    "print(cf)"
   ]
  },
  {
   "cell_type": "code",
   "execution_count": 39,
   "metadata": {},
   "outputs": [
    {
     "name": "stdout",
     "output_type": "stream",
     "text": [
      "   Order_ID Product_Name     Category  Price  Quantity Customer_ID  Order_Date\n",
      "0         1       Laptop  Electronics   1200         2        C101  01-01-2024\n",
      "\n",
      "Order_ID                  1\n",
      "Product_Name         Laptop\n",
      "Category        Electronics\n",
      "Price                  1200\n",
      "Quantity                  2\n",
      "Customer_ID            C101\n",
      "Order_Date       01-01-2024\n",
      "Name: 0, dtype: object\n"
     ]
    }
   ],
   "source": [
    "# Display the details of the most expensive product\n",
    "print(df[df[\"Price\"]==df[\"Price\"].max()])\n",
    "\n",
    "print()\n",
    "# One more way to do is\n",
    "print(df.loc[df['Price'].idxmax()])"
   ]
  },
  {
   "cell_type": "code",
   "execution_count": 49,
   "metadata": {},
   "outputs": [
    {
     "name": "stdout",
     "output_type": "stream",
     "text": [
      "C101\n"
     ]
    }
   ],
   "source": [
    "# Find the customer who has made the highest total purchase\n",
    "df[\"Total\"] = df[\"Price\"] * df[\"Quantity\"]\n",
    "print(df.groupby(\"Customer_ID\")[\"Total\"].sum().idxmax())"
   ]
  },
  {
   "cell_type": "code",
   "execution_count": 48,
   "metadata": {},
   "outputs": [
    {
     "name": "stdout",
     "output_type": "stream",
     "text": [
      "8615\n"
     ]
    }
   ],
   "source": [
    "# Find the revenue of the company\n",
    "print(df[\"Total\"].sum())"
   ]
  },
  {
   "cell_type": "code",
   "execution_count": 51,
   "metadata": {},
   "outputs": [
    {
     "data": {
      "text/html": [
       "<div>\n",
       "<style scoped>\n",
       "    .dataframe tbody tr th:only-of-type {\n",
       "        vertical-align: middle;\n",
       "    }\n",
       "\n",
       "    .dataframe tbody tr th {\n",
       "        vertical-align: top;\n",
       "    }\n",
       "\n",
       "    .dataframe thead th {\n",
       "        text-align: right;\n",
       "    }\n",
       "</style>\n",
       "<table border=\"1\" class=\"dataframe\">\n",
       "  <thead>\n",
       "    <tr style=\"text-align: right;\">\n",
       "      <th></th>\n",
       "      <th>Order_ID</th>\n",
       "      <th>Product_Name</th>\n",
       "      <th>Category</th>\n",
       "      <th>Price</th>\n",
       "      <th>Quantity</th>\n",
       "      <th>Customer_ID</th>\n",
       "      <th>Order_Date</th>\n",
       "      <th>Total</th>\n",
       "    </tr>\n",
       "  </thead>\n",
       "  <tbody>\n",
       "    <tr>\n",
       "      <th>4</th>\n",
       "      <td>5</td>\n",
       "      <td>Desk</td>\n",
       "      <td>Furniture</td>\n",
       "      <td>200</td>\n",
       "      <td>2</td>\n",
       "      <td>C105</td>\n",
       "      <td>05-01-2024</td>\n",
       "      <td>400</td>\n",
       "    </tr>\n",
       "  </tbody>\n",
       "</table>\n",
       "</div>"
      ],
      "text/plain": [
       "   Order_ID Product_Name   Category  Price  Quantity Customer_ID  Order_Date  \\\n",
       "4         5         Desk  Furniture    200         2        C105  05-01-2024   \n",
       "\n",
       "   Total  \n",
       "4    400  "
      ]
     },
     "execution_count": 51,
     "metadata": {},
     "output_type": "execute_result"
    }
   ],
   "source": [
    "# Show the products ordered on a specific date for. eg \"2024-01-05\"\n",
    "df[df[\"Order_Date\"]==\"05-01-2024\"]"
   ]
  },
  {
   "cell_type": "code",
   "execution_count": 54,
   "metadata": {},
   "outputs": [
    {
     "name": "stdout",
     "output_type": "stream",
     "text": [
      "Customer_ID\n",
      "C101    2710\n",
      "C113    1690\n",
      "C104     600\n",
      "Name: Total, dtype: int64\n"
     ]
    },
    {
     "data": {
      "text/plain": [
       "Customer_ID\n",
       "C101    2710\n",
       "C113    1690\n",
       "C104     600\n",
       "Name: Total, dtype: int64"
      ]
     },
     "execution_count": 54,
     "metadata": {},
     "output_type": "execute_result"
    }
   ],
   "source": [
    "# Find top 3 customers with the highest purchase order\n",
    "print(df.groupby(\"Customer_ID\")[\"Total\"].sum().sort_values(ascending=False)[:3])\n",
    "\n",
    "# Can also do\n",
    "df.groupby(\"Customer_ID\")[\"Total\"].sum().nlargest(3)"
   ]
  }
 ],
 "metadata": {
  "kernelspec": {
   "display_name": "Python 3",
   "language": "python",
   "name": "python3"
  },
  "language_info": {
   "codemirror_mode": {
    "name": "ipython",
    "version": 3
   },
   "file_extension": ".py",
   "mimetype": "text/x-python",
   "name": "python",
   "nbconvert_exporter": "python",
   "pygments_lexer": "ipython3",
   "version": "3.12.1"
  }
 },
 "nbformat": 4,
 "nbformat_minor": 2
}
