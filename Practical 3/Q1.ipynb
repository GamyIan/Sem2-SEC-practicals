{
 "cells": [
  {
   "cell_type": "code",
   "execution_count": 2,
   "metadata": {},
   "outputs": [],
   "source": [
    "import numpy as np"
   ]
  },
  {
   "cell_type": "code",
   "execution_count": 3,
   "metadata": {},
   "outputs": [
    {
     "name": "stdout",
     "output_type": "stream",
     "text": [
      "[(101, 'John', 'Doe', 75000, '15-05-1990', 'New York', 101, 'Engineering')\n",
      " (102, 'Jane', 'Smith', 65000, '23-08-1988', 'San Francisco', 102, 'Marketing')\n",
      " (103, 'Michael', 'Johnson', 80000, '10-02-1985', 'Chicago', 101, 'Engineering')\n",
      " (104, 'Emily', 'Williams', 70000, '30-11-1992', 'Los Angeles', 103, 'Human Resources')\n",
      " (105, 'Robert', 'Miller', 90000, '18-07-1980', 'Seattle', 102, 'Marketing')]\n"
     ]
    }
   ],
   "source": [
    "# Load the employee.csv file into a Structured NumPy array.\n",
    "# Display the first 5 records.\n",
    "df=np.genfromtxt(\"employee.csv\",dtype=None,delimiter=',',names=True,encoding=None)\n",
    "print(df[:5])"
   ]
  },
  {
   "cell_type": "code",
   "execution_count": 4,
   "metadata": {},
   "outputs": [
    {
     "name": "stdout",
     "output_type": "stream",
     "text": [
      "[(101, 'John', 'Doe', 75000, '15-05-1990', 'New York', 101, 'Engineering')\n",
      " (103, 'Michael', 'Johnson', 80000, '10-02-1985', 'Chicago', 101, 'Engineering')\n",
      " (105, 'Robert', 'Miller', 90000, '18-07-1980', 'Seattle', 102, 'Marketing')\n",
      " (106, 'Alice', 'Jackson', 72000, '05-04-1995', 'Miami', 104, 'Finance')\n",
      " (107, 'David', 'Anderson', 85000, '12-09-1987', 'Dallas', 101, 'Engineering')\n",
      " (108, 'Olivia', 'Thomas', 78000, '08-12-1991', 'Houston', 103, 'Human Resources')\n",
      " (109, 'William', 'Brown', 95000, '25-06-1982', 'Phoenix', 102, 'Marketing')\n",
      " (111, 'James', 'Clark', 89000, '22-03-1984', 'Denver', 101, 'Engineering')\n",
      " (112, 'Emma', 'Hall', 82000, '17-01-1994', 'Portland', 103, 'Human Resources')\n",
      " (113, 'Christopher', 'Young', 76000, '03-07-1989', 'San Diego', 102, 'Marketing')\n",
      " (114, 'Isabella', 'Hill', 91000, '20-04-1983', 'Orlando', 101, 'Engineering')\n",
      " (116, 'Abigail', 'Turner', 80000, '28-02-1986', 'Austin', 103, 'Human Resources')\n",
      " (117, 'Liam', 'Carter', 74000, '05-09-1997', 'Minneapolis', 102, 'Marketing')\n",
      " (118, 'Ella', 'Ross', 92000, '10-05-1981', 'Charlotte', 101, 'Engineering')\n",
      " (120, 'Sofia', 'Cooper', 88000, '01-12-1988', 'Sacramento', 103, 'Human Resources')]\n"
     ]
    }
   ],
   "source": [
    "# Retrieve employees with a salary greater than $70,000.\n",
    "print(df[df['sal']>70000])"
   ]
  },
  {
   "cell_type": "code",
   "execution_count": 5,
   "metadata": {},
   "outputs": [
    {
     "name": "stdout",
     "output_type": "stream",
     "text": [
      "[(109, 'William', 'Brown', 95000, '25-06-1982', 'Phoenix', 102, 'Marketing')\n",
      " (118, 'Ella', 'Ross', 92000, '10-05-1981', 'Charlotte', 101, 'Engineering')\n",
      " (114, 'Isabella', 'Hill', 91000, '20-04-1983', 'Orlando', 101, 'Engineering')]\n"
     ]
    }
   ],
   "source": [
    "# Sort Employees based on salaries in descending order\n",
    "print(np.sort(df,kind='mergesort',order='sal')[::-1][:3])"
   ]
  },
  {
   "cell_type": "code",
   "execution_count": 6,
   "metadata": {},
   "outputs": [
    {
     "name": "stdout",
     "output_type": "stream",
     "text": [
      "[(104, 'Emily', 'Williams', 70000, '30-11-1992', 'Los Angeles', 103, 'Human Resources')\n",
      " (106, 'Alice', 'Jackson', 72000, '05-04-1995', 'Miami', 104, 'Finance')\n",
      " (108, 'Olivia', 'Thomas', 78000, '08-12-1991', 'Houston', 103, 'Human Resources')\n",
      " (110, 'Sophia', 'White', 68000, '14-08-1993', 'Atlanta', 104, 'Finance')\n",
      " (112, 'Emma', 'Hall', 82000, '17-01-1994', 'Portland', 103, 'Human Resources')\n",
      " (115, 'Aiden', 'Ward', 69000, '15-11-1996', 'Tampa', 104, 'Finance')\n",
      " (117, 'Liam', 'Carter', 74000, '05-09-1997', 'Minneapolis', 102, 'Marketing')\n",
      " (119, 'Jackson', 'Martin', 67000, '18-03-1998', 'Raleigh', 104, 'Finance')]\n"
     ]
    }
   ],
   "source": [
    "# Born after 1990\n",
    "\n",
    "from datetime import datetime as dt\n",
    "born_1990=np.array([dt.strptime(d,\"%d-%m-%Y\").year>1990 for d in df['dateofbirth']])\n",
    "print(df[born_1990])"
   ]
  },
  {
   "cell_type": "code",
   "execution_count": 7,
   "metadata": {},
   "outputs": [
    {
     "name": "stdout",
     "output_type": "stream",
     "text": [
      "[35 37 40 33 45 30 38 34 43 32 41 31 36 42 29 39 28 44 27 37]\n"
     ]
    }
   ],
   "source": [
    "# Calculate the age of each employee based on their date of birth\n",
    "\n",
    "cy=dt.now().year # Current Year\n",
    "ages=np.array([(cy - dt.strptime(d,\"%d-%m-%Y\").year) for d in df['dateofbirth']])\n",
    "print(ages)"
   ]
  },
  {
   "cell_type": "code",
   "execution_count": 8,
   "metadata": {},
   "outputs": [
    {
     "name": "stdout",
     "output_type": "stream",
     "text": [
      "[['John' '35']\n",
      " ['Jane' '37']\n",
      " ['Michael' '40']\n",
      " ['Emily' '33']\n",
      " ['Robert' '45']\n",
      " ['Alice' '30']\n",
      " ['David' '38']\n",
      " ['Olivia' '34']\n",
      " ['William' '43']\n",
      " ['Sophia' '32']\n",
      " ['James' '41']\n",
      " ['Emma' '31']\n",
      " ['Christopher' '36']\n",
      " ['Isabella' '42']\n",
      " ['Aiden' '29']\n",
      " ['Abigail' '39']\n",
      " ['Liam' '28']\n",
      " ['Ella' '44']\n",
      " ['Jackson' '27']\n",
      " ['Sofia' '37']]\n"
     ]
    }
   ],
   "source": [
    "# Calculate the age of each employee based on their date of birth and also their name\n",
    "\n",
    "cy=dt.now().year # Current Year\n",
    "ages=np.array([(d['empfirstname'],cy - dt.strptime(d['dateofbirth'],\"%d-%m-%Y\").year) for d in df[['empfirstname','dateofbirth']]])\n",
    "print(ages)"
   ]
  },
  {
   "cell_type": "code",
   "execution_count": 9,
   "metadata": {},
   "outputs": [
    {
     "name": "stdout",
     "output_type": "stream",
     "text": [
      "[['Engineering' '512000']\n",
      " ['Finance' '276000']\n",
      " ['Human Resources' '398000']\n",
      " ['Marketing' '400000']]\n"
     ]
    }
   ],
   "source": [
    "# Total salary of each department\n",
    "departments=np.unique(df['deptname'])\n",
    "l=[]\n",
    "for dept in departments:\n",
    "    l.append([dept,np.sum(df[df['deptname']==dept]['sal'])])\n",
    "arr=np.array(l)\n",
    "print(arr)\n",
    "    "
   ]
  },
  {
   "cell_type": "code",
   "execution_count": 10,
   "metadata": {},
   "outputs": [
    {
     "name": "stdout",
     "output_type": "stream",
     "text": [
      "[['Atlanta' '1']\n",
      " ['Austin' '1']\n",
      " ['Charlotte' '1']\n",
      " ['Chicago' '1']\n",
      " ['Dallas' '1']\n",
      " ['Denver' '1']\n",
      " ['Houston' '1']\n",
      " ['Los Angeles' '1']\n",
      " ['Miami' '1']\n",
      " ['Minneapolis' '1']\n",
      " ['New York' '1']\n",
      " ['Orlando' '1']\n",
      " ['Phoenix' '1']\n",
      " ['Portland' '1']\n",
      " ['Raleigh' '1']\n",
      " ['Sacramento' '1']\n",
      " ['San Diego' '1']\n",
      " ['San Francisco' '1']\n",
      " ['Seattle' '1']\n",
      " ['Tampa' '1']]\n"
     ]
    }
   ],
   "source": [
    "# Count the number of employees in each city\n",
    "cities = np.unique(df['city'])\n",
    "l=[]\n",
    "for city in cities:\n",
    "    l.append([city,np.count_nonzero(df[\"city\"]==city)])\n",
    "arr=np.array(l)\n",
    "print(arr)"
   ]
  },
  {
   "cell_type": "code",
   "execution_count": 11,
   "metadata": {},
   "outputs": [],
   "source": [
    "# Increase the salary of employees in the Marketing department by 10%.\n",
    "mark=df[df['deptname']=='Marketing']\n",
    "mark['sal']=mark['sal'] * 1.1\n",
    "#print(mark)\n",
    "df[df['deptname']=='Marketing']=mark"
   ]
  }
 ],
 "metadata": {
  "kernelspec": {
   "display_name": "Python 3",
   "language": "python",
   "name": "python3"
  },
  "language_info": {
   "codemirror_mode": {
    "name": "ipython",
    "version": 3
   },
   "file_extension": ".py",
   "mimetype": "text/x-python",
   "name": "python",
   "nbconvert_exporter": "python",
   "pygments_lexer": "ipython3",
   "version": "3.12.1"
  }
 },
 "nbformat": 4,
 "nbformat_minor": 2
}
