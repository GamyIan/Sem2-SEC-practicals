{
 "cells": [
  {
   "cell_type": "code",
   "execution_count": null,
   "metadata": {},
   "outputs": [],
   "source": [
    "# Question 1:"
   ]
  },
  {
   "cell_type": "code",
   "execution_count": null,
   "metadata": {},
   "outputs": [
    {
     "name": "stdout",
     "output_type": "stream",
     "text": [
      "Before Transfer:\n",
      "Balance: 5000\n",
      "Balance: 6000\n",
      "\n",
      "After Transfer:\n",
      "Balance: 3000\n",
      "Balance: 8000\n"
     ]
    }
   ],
   "source": [
    "# Question 2:\n",
    "# Create a function to allow transfer of funds between two bank account objects\n",
    "\n",
    "# Note: This is the type of questions we'll see in exam\n",
    "\n",
    "class Bank:\n",
    "    def __init__(self,id,bal):\n",
    "        self.id=id\n",
    "        self.bal=bal\n",
    "    def deposit(self,amt):\n",
    "        if amt>0:\n",
    "            self.bal+=amt\n",
    "            return True\n",
    "        return False\n",
    "    def withdraw(self,amt):\n",
    "        if 0<amt<=self.bal:\n",
    "            self.bal-=amt\n",
    "            return True\n",
    "        return False\n",
    "    def transfer(fro,to,amt): # If no self is mentioned then it becomes a static function\n",
    "        if fro.withdraw(amt):\n",
    "            to.deposit(amt)\n",
    "            return fro,to\n",
    "        else:\n",
    "            print(\"Transaction Failed.\")\n",
    "            return fro,to\n",
    "    def display(self):\n",
    "        print(f\"Balance: {self.bal}\")\n",
    "        \n",
    "c1=Bank(123,5000)\n",
    "c2=Bank(124,6000)\n",
    "\n",
    "print(f\"Before Transfer:\")\n",
    "c1.display()        \n",
    "c2.display()\n",
    "c1,c2=Bank.transfer(c1,c2,2000)        \n",
    "print(f\"\\nAfter Transfer:\")\n",
    "c1.display()        \n",
    "c2.display()"
   ]
  },
  {
   "cell_type": "code",
   "execution_count": null,
   "metadata": {},
   "outputs": [],
   "source": []
  }
 ],
 "metadata": {
  "kernelspec": {
   "display_name": "Python 3",
   "language": "python",
   "name": "python3"
  },
  "language_info": {
   "codemirror_mode": {
    "name": "ipython",
    "version": 3
   },
   "file_extension": ".py",
   "mimetype": "text/x-python",
   "name": "python",
   "nbconvert_exporter": "python",
   "pygments_lexer": "ipython3",
   "version": "3.12.1"
  }
 },
 "nbformat": 4,
 "nbformat_minor": 2
}
