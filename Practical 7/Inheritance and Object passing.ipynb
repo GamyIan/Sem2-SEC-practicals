{
 "cells": [
  {
   "cell_type": "code",
   "execution_count": 15,
   "metadata": {},
   "outputs": [
    {
     "name": "stdout",
     "output_type": "stream",
     "text": [
      "4 + 6i\n"
     ]
    }
   ],
   "source": [
    "# Question 1: Add to complex numbers using class and passing objects as a parameter to the method \n",
    "\n",
    "class Complex:\n",
    "    def __init__(self, real, img):\n",
    "        self.real = real\n",
    "        self.img = img\n",
    "    def add(self, other):\n",
    "        return Complex(self.real + other.real, self.img + other.img)\n",
    "    def display(self):\n",
    "        print(f\"{self.real} + {self.img}i\");\n",
    "\n",
    "\n",
    "c1 = Complex(3, 4)\n",
    "c2 = Complex(1, 2)\n",
    "c3 = c1.add(c2)\n",
    "c3.display()\n",
    "\n",
    "    "
   ]
  },
  {
   "cell_type": "code",
   "execution_count": null,
   "metadata": {},
   "outputs": [
    {
     "name": "stdout",
     "output_type": "stream",
     "text": [
      "Before Transfer:\n",
      "Balance: 5000\n",
      "Balance: 6000\n",
      "\n",
      "After Transfer:\n",
      "Balance: 3000\n",
      "Balance: 8000\n"
     ]
    }
   ],
   "source": [
    "# Question 2:\n",
    "# Create a function to allow transfer of funds between two bank account objects\n",
    "\n",
    "# Note: This is the type of questions we'll see in exam\n",
    "\n",
    "class Bank:\n",
    "    def __init__(self,id,bal):\n",
    "        self.id=id\n",
    "        self.bal=bal\n",
    "    def deposit(self,amt):\n",
    "        if amt>0:\n",
    "            self.bal+=amt\n",
    "            return True\n",
    "        return False\n",
    "    def withdraw(self,amt):\n",
    "        if 0<amt<=self.bal:\n",
    "            self.bal-=amt\n",
    "            return True\n",
    "        return False\n",
    "    def transfer(fro,to,amt): # If no self is mentioned then it becomes a static function\n",
    "        if fro.withdraw(amt):\n",
    "            to.deposit(amt)\n",
    "            return fro,to\n",
    "        else:\n",
    "            print(\"Transaction Failed.\")\n",
    "            return fro,to\n",
    "    def display(self):\n",
    "        print(f\"Balance: {self.bal}\")\n",
    "        \n",
    "c1=Bank(123,5000)\n",
    "c2=Bank(124,6000)\n",
    "\n",
    "print(f\"Before Transfer:\")\n",
    "c1.display()        \n",
    "c2.display()\n",
    "c1,c2=Bank.transfer(c1,c2,2000)        \n",
    "print(f\"\\nAfter Transfer:\")\n",
    "c1.display()        \n",
    "c2.display()"
   ]
  },
  {
   "cell_type": "code",
   "execution_count": 9,
   "metadata": {},
   "outputs": [
    {
     "name": "stdout",
     "output_type": "stream",
     "text": [
      "Name: John\n",
      "Salary: 30000\n",
      "Department: IT\n",
      "==================================================\n",
      "Name: Onasex\n",
      "Salary: 40000\n",
      "Language: C++\n"
     ]
    }
   ],
   "source": [
    "# Q3: Inheritance\n",
    "class Employee: # Base/Parent Class\n",
    "    def __init__(self,name,sal):\n",
    "        self.name=name\n",
    "        self.sal=sal\n",
    "        \n",
    "        \n",
    "class Manager(Employee):   # Manager is a child of Employee\n",
    "    def __init__(self,name,sal,dept):\n",
    "        super().__init__(name,sal)\n",
    "        self.dept=dept\n",
    "    def display(self):\n",
    "        print(f\"Name: {self.name}\")\n",
    "        print(f\"Salary: {self.sal}\")\n",
    "        print(f\"Department: {self.dept}\")\n",
    "class Developer(Employee):\n",
    "    def __init__(self,name,sal,lang):\n",
    "        super().__init__(name,sal)\n",
    "        self.lang=lang\n",
    "    def display(self):\n",
    "        print(f\"Name: {self.name}\")\n",
    "        print(f\"Salary: {self.sal}\")\n",
    "        print(f\"Language: {self.lang}\")\n",
    "    \n",
    "m1=Manager(\"John\",30000,\"IT\")\n",
    "dev1=Developer(\"Onasex\",40000,\"C++\")\n",
    "\n",
    "m1.display()\n",
    "print(\"=\"*50)\n",
    "dev1.display()"
   ]
  },
  {
   "cell_type": "code",
   "execution_count": 16,
   "metadata": {},
   "outputs": [
    {
     "name": "stdout",
     "output_type": "stream",
     "text": [
      "2 is greater than 1\n"
     ]
    }
   ],
   "source": [
    "# Write python cocde to calculate greatest of 2 numbers using inheritance\n",
    "# Class: Number 1 has attribute x\n",
    "# Class: Number 2 inherits x and has another number y and also calculates the greatest\n",
    "\n",
    "class Number1:\n",
    "    def __init__(self,x):\n",
    "        self.x=x\n",
    "        \n",
    "class Number2(Number1):\n",
    "    def __init__(self,x,y):\n",
    "        super().__init__(x)\n",
    "        self.y=y\n",
    "    def calc(self):\n",
    "        if self.x==self.y:\n",
    "            print(f\"Both are equal\")\n",
    "        elif self.x>self.y:\n",
    "            print(f\"{self.x} is greater than {self.y}\")\n",
    "        else:\n",
    "            print(f\"{self.y} is greater than {self.x}\")\n",
    "\n",
    "\n",
    "x=int(input(\"Enter number 1: \"))     \n",
    "y=int(input(\"Enter number 2: \"))     \n",
    "z=Number2(x,y)\n",
    "z.calc()"
   ]
  }
 ],
 "metadata": {
  "kernelspec": {
   "display_name": "Python 3",
   "language": "python",
   "name": "python3"
  },
  "language_info": {
   "codemirror_mode": {
    "name": "ipython",
    "version": 3
   },
   "file_extension": ".py",
   "mimetype": "text/x-python",
   "name": "python",
   "nbconvert_exporter": "python",
   "pygments_lexer": "ipython3",
   "version": "3.12.1"
  }
 },
 "nbformat": 4,
 "nbformat_minor": 2
}
