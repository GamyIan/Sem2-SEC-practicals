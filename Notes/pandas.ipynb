{
 "cells": [
  {
   "cell_type": "markdown",
   "metadata": {},
   "source": [
    "# Data Analysis using Python Pandas"
   ]
  },
  {
   "cell_type": "markdown",
   "metadata": {},
   "source": [
    "## Pandas\n",
    "It is a very powerful data analysis and management tool\n",
    "It supports:\n",
    "- Data visualization\n",
    "- "
   ]
  },
  {
   "cell_type": "markdown",
   "metadata": {},
   "source": [
    "Two typees of Data Structures\n",
    "- Series: One Dimensional\n",
    "- Dataframe: Two Dimensional"
   ]
  },
  {
   "cell_type": "code",
   "execution_count": 2,
   "metadata": {},
   "outputs": [
    {
     "name": "stdout",
     "output_type": "stream",
     "text": [
      "0    10\n",
      "1    20\n",
      "2    30\n",
      "3    40\n",
      "dtype: int64\n",
      "40\n"
     ]
    }
   ],
   "source": [
    "# Importing\n",
    "import pandas as pd\n",
    "\n",
    "# Creating Series\n",
    "ser=pd.Series([10,20,30,40])\n",
    "print(ser)\n",
    "print(ser[3])"
   ]
  },
  {
   "cell_type": "code",
   "execution_count": 3,
   "metadata": {},
   "outputs": [
    {
     "name": "stdout",
     "output_type": "stream",
     "text": [
      "NewDelhi\n",
      "WashingtonDc\n"
     ]
    },
    {
     "name": "stderr",
     "output_type": "stream",
     "text": [
      "/tmp/ipykernel_8033/4024110452.py:4: FutureWarning: Series.__getitem__ treating keys as positions is deprecated. In a future version, integer keys will always be treated as labels (consistent with DataFrame behavior). To access a value by position, use `ser.iloc[pos]`\n",
      "  print(srCaps[1])\n"
     ]
    }
   ],
   "source": [
    "# Giving your own indexes. An advantage over numpy\n",
    "srCaps = pd.Series(['NewDelhi','WashingtonDc','London','Paris'],index=['India','USA','UK','France'])\n",
    "print(srCaps['India'])\n",
    "print(srCaps[1]) # Works but will be deprecated"
   ]
  },
  {
   "cell_type": "markdown",
   "metadata": {},
   "source": [
    "## Series Functions\n",
    "`head()`: Returns first n members of the series. Default value is 5 <br>\n",
    "`tail()`: Returns last n members of the series. Default value is 5 <br>\n",
    "`count()`: Retusn total number of non NaN elements"
   ]
  },
  {
   "cell_type": "markdown",
   "metadata": {},
   "source": [
    "## DataFrames\n",
    "Can be created using dictionaries, lists, arrays, etc.\n",
    "\n",
    "Q: Write a dictionary to store marks of 5 students scoring marks in 3 subjects"
   ]
  },
  {
   "cell_type": "code",
   "execution_count": 4,
   "metadata": {},
   "outputs": [
    {
     "name": "stdout",
     "output_type": "stream",
     "text": [
      "{'Stu1': [1, 2, 3], 'Stu2': [2, 3, 4], 'Stu3': [4, 5, 6], 'Stu4': [7, 8, 9], 'Stu5': [10, 11, 12]}\n"
     ]
    }
   ],
   "source": [
    "marks={\n",
    "    'Stu1': [1,2,3],\n",
    "    'Stu2': [2,3,4],\n",
    "    'Stu3': [4,5,6],\n",
    "    'Stu4': [7,8,9],\n",
    "    'Stu5': [10,11,12],\n",
    "}\n",
    "\n",
    "print(marks)\n",
    "# Works but wrong way to make dictionary if exporting to dataframe"
   ]
  },
  {
   "cell_type": "code",
   "execution_count": 7,
   "metadata": {},
   "outputs": [
    {
     "name": "stdout",
     "output_type": "stream",
     "text": [
      "   Names  Major  Minor  OE\n",
      "0   John      1      6  11\n",
      "1  Alice      2      7  12\n",
      "2   Mark      3      8  13\n",
      "3    Raj      4      9  14\n",
      "4  Rohan      5      0  15\n"
     ]
    }
   ],
   "source": [
    "# To make dataframe\n",
    "marks={\n",
    "    \"Names\":[\"John\",\"Alice\",\"Mark\",\"Raj\",\"Rohan\"],\n",
    "    \"Major\":[1,2,3,4,5],\n",
    "    \"Minor\":[6,7,8,9,0],\n",
    "    \"OE\":[11,12,13,14,15]\n",
    "}\n",
    "df=pd.DataFrame(marks)\n",
    "print(df)\n",
    "#print(df[0])  Doesn't work"
   ]
  },
  {
   "cell_type": "code",
   "execution_count": 18,
   "metadata": {},
   "outputs": [
    {
     "name": "stdout",
     "output_type": "stream",
     "text": [
      "     FIRST_NAME    LAST_NAME\n",
      "0        Donald     OConnell\n",
      "1       Douglas        Grant\n",
      "2      Jennifer       Whalen\n",
      "3       Michael    Hartstein\n",
      "4           Pat          Fay\n",
      "5         Susan       Mavris\n",
      "6       Hermann         Baer\n",
      "7       Shelley      Higgins\n",
      "8       William        Gietz\n",
      "9        Steven         King\n",
      "10        Neena      Kochhar\n",
      "11          Lex      De Haan\n",
      "12    Alexander       Hunold\n",
      "13        Bruce        Ernst\n",
      "14        David       Austin\n",
      "15        Valli    Pataballa\n",
      "16        Diana      Lorentz\n",
      "17        Nancy    Greenberg\n",
      "18       Daniel       Faviet\n",
      "19         John         Chen\n",
      "20       Ismael      Sciarra\n",
      "21  Jose Manuel        Urman\n",
      "22         Luis         Popp\n",
      "23          Den     Raphaely\n",
      "24    Alexander         Khoo\n",
      "25       Shelli        Baida\n",
      "26        Sigal       Tobias\n",
      "27          Guy       Himuro\n",
      "28        Karen   Colmenares\n",
      "29      Matthew        Weiss\n",
      "30         Adam        Fripp\n",
      "31        Payam     Kaufling\n",
      "32       Shanta      Vollman\n",
      "33        Kevin      Mourgos\n",
      "34        Julia        Nayer\n",
      "35        Irene  Mikkilineni\n",
      "36        James       Landry\n",
      "37       Steven       Markle\n",
      "38        Laura       Bissot\n",
      "39        Mozhe     Atkinson\n",
      "40        James       Marlow\n",
      "41           TJ        Olson\n",
      "42        Jason       Mallin\n",
      "43      Michael       Rogers\n",
      "44           Ki          Gee\n",
      "45        Hazel   Philtanker\n",
      "46       Renske       Ladwig\n",
      "47      Stephen       Stiles\n",
      "48         John          Seo\n",
      "49       Joshua        Patel\n"
     ]
    }
   ],
   "source": [
    "# To read csv\n",
    "df = pd.read_csv('Data/employees.csv')\n",
    "print(df[[\"FIRST_NAME\",\"LAST_NAME\"]])"
   ]
  },
  {
   "cell_type": "code",
   "execution_count": 25,
   "metadata": {},
   "outputs": [
    {
     "name": "stdout",
     "output_type": "stream",
     "text": [
      "   EMPLOYEE_ID FIRST_NAME  LAST_NAME     EMAIL  PHONE_NUMBER  HIRE_DATE  \\\n",
      "0          198     Donald   OConnell  DOCONNEL  650.507.9833  21-Jun-07   \n",
      "1          199    Douglas      Grant    DGRANT  650.507.9844  13-Jan-08   \n",
      "2          200   Jennifer     Whalen   JWHALEN  515.123.4444  17-Sep-03   \n",
      "3          201    Michael  Hartstein  MHARTSTE  515.123.5555  17-Feb-04   \n",
      "4          202        Pat        Fay      PFAY  603.123.6666  17-Aug-05   \n",
      "\n",
      "     JOB_ID  SALARY COMMISSION_PCT MANAGER_ID  DEPARTMENT_ID  \n",
      "0  SH_CLERK    2600             -         124             50  \n",
      "1  SH_CLERK    2600             -         124             50  \n",
      "2   AD_ASST    4400             -         101             10  \n",
      "3    MK_MAN   13000             -         100             20  \n",
      "4    MK_REP    6000             -         201             20  \n",
      "    EMPLOYEE_ID FIRST_NAME   LAST_NAME     EMAIL  PHONE_NUMBER  HIRE_DATE  \\\n",
      "45          136      Hazel  Philtanker  HPHILTAN  650.127.1634  06-Feb-08   \n",
      "46          137     Renske      Ladwig   RLADWIG  650.121.1234  14-Jul-03   \n",
      "47          138    Stephen      Stiles   SSTILES  650.121.2034  26-Oct-05   \n",
      "48          139       John         Seo      JSEO  650.121.2019  12-Feb-06   \n",
      "49          140     Joshua       Patel    JPATEL  650.121.1834  06-Apr-06   \n",
      "\n",
      "      JOB_ID  SALARY COMMISSION_PCT MANAGER_ID  DEPARTMENT_ID  \n",
      "45  ST_CLERK    2200             -         122             50  \n",
      "46  ST_CLERK    3600             -         123             50  \n",
      "47  ST_CLERK    3200             -         123             50  \n",
      "48  ST_CLERK    2700             -         123             50  \n",
      "49  ST_CLERK    2500             -         123             50  \n"
     ]
    }
   ],
   "source": [
    "print(df[:5]) # First 5 records using slicing\n",
    "print(df[-5:]) # Last 5 records using slicing\n",
    "#print(df.tail())\n",
    "#print(df.head()) Normal way to do it"
   ]
  },
  {
   "cell_type": "code",
   "execution_count": 44,
   "metadata": {},
   "outputs": [
    {
     "name": "stdout",
     "output_type": "stream",
     "text": [
      "  FIRST_NAME  LAST_NAME\n",
      "0     Donald   OConnell\n",
      "1    Douglas      Grant\n",
      "2   Jennifer     Whalen\n",
      "3    Michael  Hartstein\n",
      "4        Pat        Fay\n"
     ]
    }
   ],
   "source": [
    "# First 5 records but only first name and last name\n",
    "print(df.iloc[:5,1:3])  # index location allows to slice columns and rows together"
   ]
  },
  {
   "cell_type": "code",
   "execution_count": 51,
   "metadata": {},
   "outputs": [
    {
     "name": "stdout",
     "output_type": "stream",
     "text": [
      "     FIRST_NAME  LAST_NAME  SALARY\n",
      "3       Michael  Hartstein   13000\n",
      "4           Pat        Fay    6000\n",
      "5         Susan     Mavris    6500\n",
      "6       Hermann       Baer   10000\n",
      "7       Shelley    Higgins   12008\n",
      "8       William      Gietz    8300\n",
      "9        Steven       King   24000\n",
      "10        Neena    Kochhar   17000\n",
      "11          Lex    De Haan   17000\n",
      "12    Alexander     Hunold    9000\n",
      "13        Bruce      Ernst    6000\n",
      "17        Nancy  Greenberg   12008\n",
      "18       Daniel     Faviet    9000\n",
      "19         John       Chen    8200\n",
      "20       Ismael    Sciarra    7700\n",
      "21  Jose Manuel      Urman    7800\n",
      "22         Luis       Popp    6900\n",
      "23          Den   Raphaely   11000\n",
      "29      Matthew      Weiss    8000\n",
      "30         Adam      Fripp    8200\n",
      "31        Payam   Kaufling    7900\n",
      "32       Shanta    Vollman    6500\n",
      "33        Kevin    Mourgos    5800\n"
     ]
    }
   ],
   "source": [
    "# Display the details of the employees earning salary more than 5000\n",
    "print(df[df[\"SALARY\"]>5000][[\"FIRST_NAME\",\"LAST_NAME\",\"SALARY\"]])"
   ]
  },
  {
   "cell_type": "code",
   "execution_count": 55,
   "metadata": {},
   "outputs": [
    {
     "data": {
      "text/html": [
       "<div>\n",
       "<style scoped>\n",
       "    .dataframe tbody tr th:only-of-type {\n",
       "        vertical-align: middle;\n",
       "    }\n",
       "\n",
       "    .dataframe tbody tr th {\n",
       "        vertical-align: top;\n",
       "    }\n",
       "\n",
       "    .dataframe thead th {\n",
       "        text-align: right;\n",
       "    }\n",
       "</style>\n",
       "<table border=\"1\" class=\"dataframe\">\n",
       "  <thead>\n",
       "    <tr style=\"text-align: right;\">\n",
       "      <th></th>\n",
       "      <th>EMPLOYEE_ID</th>\n",
       "      <th>FIRST_NAME</th>\n",
       "      <th>LAST_NAME</th>\n",
       "      <th>EMAIL</th>\n",
       "      <th>PHONE_NUMBER</th>\n",
       "      <th>HIRE_DATE</th>\n",
       "      <th>JOB_ID</th>\n",
       "      <th>SALARY</th>\n",
       "      <th>COMMISSION_PCT</th>\n",
       "      <th>MANAGER_ID</th>\n",
       "      <th>DEPARTMENT_ID</th>\n",
       "    </tr>\n",
       "  </thead>\n",
       "  <tbody>\n",
       "    <tr>\n",
       "      <th>9</th>\n",
       "      <td>100</td>\n",
       "      <td>Steven</td>\n",
       "      <td>King</td>\n",
       "      <td>SKING</td>\n",
       "      <td>515.123.4567</td>\n",
       "      <td>17-Jun-03</td>\n",
       "      <td>AD_PRES</td>\n",
       "      <td>24000</td>\n",
       "      <td>-</td>\n",
       "      <td>-</td>\n",
       "      <td>90</td>\n",
       "    </tr>\n",
       "    <tr>\n",
       "      <th>10</th>\n",
       "      <td>101</td>\n",
       "      <td>Neena</td>\n",
       "      <td>Kochhar</td>\n",
       "      <td>NKOCHHAR</td>\n",
       "      <td>515.123.4568</td>\n",
       "      <td>21-Sep-05</td>\n",
       "      <td>AD_VP</td>\n",
       "      <td>17000</td>\n",
       "      <td>-</td>\n",
       "      <td>100</td>\n",
       "      <td>90</td>\n",
       "    </tr>\n",
       "    <tr>\n",
       "      <th>11</th>\n",
       "      <td>102</td>\n",
       "      <td>Lex</td>\n",
       "      <td>De Haan</td>\n",
       "      <td>LDEHAAN</td>\n",
       "      <td>515.123.4569</td>\n",
       "      <td>13-Jan-01</td>\n",
       "      <td>AD_VP</td>\n",
       "      <td>17000</td>\n",
       "      <td>-</td>\n",
       "      <td>100</td>\n",
       "      <td>90</td>\n",
       "    </tr>\n",
       "    <tr>\n",
       "      <th>3</th>\n",
       "      <td>201</td>\n",
       "      <td>Michael</td>\n",
       "      <td>Hartstein</td>\n",
       "      <td>MHARTSTE</td>\n",
       "      <td>515.123.5555</td>\n",
       "      <td>17-Feb-04</td>\n",
       "      <td>MK_MAN</td>\n",
       "      <td>13000</td>\n",
       "      <td>-</td>\n",
       "      <td>100</td>\n",
       "      <td>20</td>\n",
       "    </tr>\n",
       "    <tr>\n",
       "      <th>7</th>\n",
       "      <td>205</td>\n",
       "      <td>Shelley</td>\n",
       "      <td>Higgins</td>\n",
       "      <td>SHIGGINS</td>\n",
       "      <td>515.123.8080</td>\n",
       "      <td>07-Jun-02</td>\n",
       "      <td>AC_MGR</td>\n",
       "      <td>12008</td>\n",
       "      <td>-</td>\n",
       "      <td>101</td>\n",
       "      <td>110</td>\n",
       "    </tr>\n",
       "  </tbody>\n",
       "</table>\n",
       "</div>"
      ],
      "text/plain": [
       "    EMPLOYEE_ID FIRST_NAME  LAST_NAME     EMAIL  PHONE_NUMBER  HIRE_DATE  \\\n",
       "9           100     Steven       King     SKING  515.123.4567  17-Jun-03   \n",
       "10          101      Neena    Kochhar  NKOCHHAR  515.123.4568  21-Sep-05   \n",
       "11          102        Lex    De Haan   LDEHAAN  515.123.4569  13-Jan-01   \n",
       "3           201    Michael  Hartstein  MHARTSTE  515.123.5555  17-Feb-04   \n",
       "7           205    Shelley    Higgins  SHIGGINS  515.123.8080  07-Jun-02   \n",
       "\n",
       "     JOB_ID  SALARY COMMISSION_PCT MANAGER_ID  DEPARTMENT_ID  \n",
       "9   AD_PRES   24000             -          -              90  \n",
       "10    AD_VP   17000             -         100             90  \n",
       "11    AD_VP   17000             -         100             90  \n",
       "3    MK_MAN   13000             -         100             20  \n",
       "7    AC_MGR   12008             -         101            110  "
      ]
     },
     "execution_count": 55,
     "metadata": {},
     "output_type": "execute_result"
    }
   ],
   "source": [
    "# display the details of the person who earns the maximum salary\n",
    "df.sort_values(\"SALARY\",ascending=False).head()"
   ]
  },
  {
   "cell_type": "code",
   "execution_count": 66,
   "metadata": {},
   "outputs": [
    {
     "name": "stdout",
     "output_type": "stream",
     "text": [
      "JOB_ID\n",
      "AC_ACCOUNT     8300\n",
      "AC_MGR        12008\n",
      "AD_ASST        4400\n",
      "AD_PRES       24000\n",
      "AD_VP         34000\n",
      "Name: SALARY, dtype: int64\n",
      "==================================================\n",
      "JOB_ID\n",
      "AC_ACCOUNT     8300.0\n",
      "AC_MGR        12008.0\n",
      "AD_ASST        4400.0\n",
      "AD_PRES       24000.0\n",
      "AD_VP         17000.0\n",
      "Name: SALARY, dtype: float64\n"
     ]
    }
   ],
   "source": [
    "# Display the total salary earned at each job\n",
    "print(df.groupby(by=\"JOB_ID\")['SALARY'].sum().head())\n",
    "# Display the Avg salary earned at each job\n",
    "print(\"=\"*50)\n",
    "print(df.groupby(by=\"JOB_ID\")['SALARY'].mean().head())"
   ]
  },
  {
   "cell_type": "code",
   "execution_count": 68,
   "metadata": {},
   "outputs": [
    {
     "name": "stdout",
     "output_type": "stream",
     "text": [
      "5200\n"
     ]
    }
   ],
   "source": [
    "print(df[df[\"JOB_ID\"]==\"SH_CLERK\"]['SALARY'].sum())"
   ]
  },
  {
   "cell_type": "code",
   "execution_count": 71,
   "metadata": {},
   "outputs": [
    {
     "name": "stdout",
     "output_type": "stream",
     "text": [
      "DEPARTMENT_ID\n",
      "10      1\n",
      "20      2\n",
      "30      6\n",
      "40      1\n",
      "50     23\n",
      "60      5\n",
      "70      1\n",
      "90      3\n",
      "100     6\n",
      "110     2\n",
      "Name: EMPLOYEE_ID, dtype: int64\n"
     ]
    }
   ],
   "source": [
    "# Display total number of employees working in each dept\n",
    "print(df.groupby(\"DEPARTMENT_ID\")[\"EMPLOYEE_ID\"].count())"
   ]
  },
  {
   "cell_type": "code",
   "execution_count": 73,
   "metadata": {},
   "outputs": [
    {
     "data": {
      "text/plain": [
       "MANAGER_ID\n",
       " -     1\n",
       "100    9\n",
       "101    5\n",
       "102    1\n",
       "103    4\n",
       "108    5\n",
       "114    5\n",
       "120    4\n",
       "121    4\n",
       "122    4\n",
       "123    4\n",
       "124    2\n",
       "201    1\n",
       "205    1\n",
       "Name: EMPLOYEE_ID, dtype: int64"
      ]
     },
     "execution_count": 73,
     "metadata": {},
     "output_type": "execute_result"
    }
   ],
   "source": [
    "# Display how many employees are working under each manager\n",
    "df.groupby(\"MANAGER_ID\")[\"EMPLOYEE_ID\"].count()"
   ]
  },
  {
   "cell_type": "code",
   "execution_count": null,
   "metadata": {},
   "outputs": [],
   "source": []
  }
 ],
 "metadata": {
  "kernelspec": {
   "display_name": "Python 3",
   "language": "python",
   "name": "python3"
  },
  "language_info": {
   "codemirror_mode": {
    "name": "ipython",
    "version": 3
   },
   "file_extension": ".py",
   "mimetype": "text/x-python",
   "name": "python",
   "nbconvert_exporter": "python",
   "pygments_lexer": "ipython3",
   "version": "3.12.1"
  }
 },
 "nbformat": 4,
 "nbformat_minor": 2
}
