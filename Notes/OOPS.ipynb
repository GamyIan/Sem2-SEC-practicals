{
 "cells": [
  {
   "cell_type": "markdown",
   "metadata": {},
   "source": [
    "# OOP"
   ]
  },
  {
   "cell_type": "markdown",
   "metadata": {},
   "source": [
    "### Classes and Objects\n",
    "- Class is a datatype of an object.\n",
    "    - It is a blueprint and defines attributes (variables) and methods (functions).\n",
    "    - Class members are also called data members\n",
    "- Object is an instance of the class with unique characteristics and behaviors.\n",
    "- Objects is a real world entity meaning it takes up memory. A class doesn't take memory\n",
    "---\n",
    "### Constructor\n",
    "- Constructor is a special member function\n",
    "- It is called implicitly (They are called automatically)\n",
    "- In python the constructor is named `__init__`\n",
    "- Whenever an object of a class is created. The system assigns memory to that object through constructor.\n",
    "---\n",
    "### Syntax of Class\n",
    "```\n",
    "class ClassName:\n",
    "    def __init__(self,param1,param2):\n",
    "```\n",
    "\n",
    "### Syntax of Object\n",
    "`obj=ClassName()`"
   ]
  },
  {
   "cell_type": "code",
   "execution_count": 2,
   "metadata": {},
   "outputs": [
    {
     "name": "stdout",
     "output_type": "stream",
     "text": [
      "Constructor is called.\n",
      "Inside Display Method\n"
     ]
    }
   ],
   "source": [
    "class Student:\n",
    "    def __init__(self):\n",
    "        print(\"Constructor is called.\")\n",
    "    def display(self):\n",
    "        print(\"Inside Display Method\")\n",
    "    \n",
    "s1=Student() #Object is created and constructor is called\n",
    "s1.display()\n"
   ]
  },
  {
   "cell_type": "code",
   "execution_count": 25,
   "metadata": {},
   "outputs": [
    {
     "name": "stdout",
     "output_type": "stream",
     "text": [
      "Result: 3\n"
     ]
    }
   ],
   "source": [
    "# Write a python program to perform addition of two numbers using class and object\n",
    "\n",
    "class Math:\n",
    "    def __init__(self,n1,n2):\n",
    "        self.x=n1\n",
    "        self.y=n2\n",
    "        self.add=self.x+self.y # Local variable if not put self. (Its scope is only within the function)\n",
    "    def add_num(self):\n",
    "        print(f\"Result: {self.add}\")\n",
    "        \n",
    "test=Math(1,2)\n",
    "test.add_num()\n",
    "\n"
   ]
  },
  {
   "cell_type": "code",
   "execution_count": 15,
   "metadata": {},
   "outputs": [
    {
     "name": "stdout",
     "output_type": "stream",
     "text": [
      "2 is greater than 1\n"
     ]
    }
   ],
   "source": [
    "# Create a python class to find greatest of two numbers\n",
    "\n",
    "class Greatest:\n",
    "    def __init__(self,a,b):\n",
    "        self.x=a\n",
    "        self.y=b\n",
    "        self.greatest = self.calc(self.x,self.y)\n",
    "    def calc(self,a,b):\n",
    "        if a>b: return 1\n",
    "        elif b>a: return 2\n",
    "        else: return 0\n",
    "    def display(self):\n",
    "        \n",
    "        if self.greatest==1:\n",
    "            print(f\"{self.x} is greater than {self.y}\")\n",
    "        elif self.greatest==2:\n",
    "            print(f\"{self.y} is greater than {self.x}\")\n",
    "        else:\n",
    "            print(f\"Both are equal\")\n",
    "            \n",
    "        \n",
    "test=Greatest(1,2)\n",
    "test.display()\n"
   ]
  },
  {
   "cell_type": "code",
   "execution_count": 23,
   "metadata": {},
   "outputs": [
    {
     "name": "stdout",
     "output_type": "stream",
     "text": [
      "=============== Process ===============\n",
      "50 Books sold\n",
      "Quantity of LOTR increased by 10\n",
      "=============== Display ===============\n",
      "Title: LOTR\n",
      "Author: J.R.R Tolkein\n",
      "Price: 25\n",
      "Available Stock: 60\n"
     ]
    }
   ],
   "source": [
    "class Book:\n",
    "    def __init__(self,t,a,p,q):\n",
    "        self.title=t\n",
    "        self.author=a\n",
    "        self.price=p\n",
    "        self.qty=q\n",
    "    def sell_book(self,qty):\n",
    "        if self.qty>qty:\n",
    "            self.qty-=qty\n",
    "            print(f\"{qty} Books sold\")\n",
    "        else:\n",
    "            print(f\"{self.title} is out of stock\")\n",
    "    def add_stock(self,qty):\n",
    "        self.qty+=qty\n",
    "        print(f\"Quantity of {self.title} increased by {qty}\")\n",
    "    def display(self):\n",
    "        print(f\"Title: {self.title}\")\n",
    "        print(f\"Author: {self.author}\")\n",
    "        print(f\"Price: {self.price}\")\n",
    "        print(f\"Available Stock: {self.qty}\")\n",
    "\n",
    "print(\"=\"*15,\"Process\",\"=\"*15)\n",
    "Book1=Book(\"LOTR\",\"J.R.R Tolkein\",25,100)\n",
    "Book1.sell_book(50)\n",
    "Book1.add_stock(10)\n",
    "print(\"=\"*15,\"Display\",\"=\"*15)\n",
    "Book1.display()\n",
    "        \n",
    "        "
   ]
  },
  {
   "cell_type": "markdown",
   "metadata": {},
   "source": []
  }
 ],
 "metadata": {
  "kernelspec": {
   "display_name": "Python 3",
   "language": "python",
   "name": "python3"
  },
  "language_info": {
   "codemirror_mode": {
    "name": "ipython",
    "version": 3
   },
   "file_extension": ".py",
   "mimetype": "text/x-python",
   "name": "python",
   "nbconvert_exporter": "python",
   "pygments_lexer": "ipython3",
   "version": "3.12.1"
  }
 },
 "nbformat": 4,
 "nbformat_minor": 2
}
