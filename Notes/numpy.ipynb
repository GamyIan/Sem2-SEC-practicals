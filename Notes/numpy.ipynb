{
 "cells": [
  {
   "cell_type": "markdown",
   "metadata": {},
   "source": [
    "# Numpy"
   ]
  },
  {
   "cell_type": "markdown",
   "metadata": {},
   "source": [
    "### Importing and using numpy"
   ]
  },
  {
   "cell_type": "code",
   "execution_count": 1,
   "metadata": {},
   "outputs": [
    {
     "name": "stdout",
     "output_type": "stream",
     "text": [
      "[1 2 3 4]\n"
     ]
    }
   ],
   "source": [
    "import numpy as np\n",
    "\n",
    "arr=np.array([1,2,3,4])\n",
    "print(arr)"
   ]
  },
  {
   "cell_type": "markdown",
   "metadata": {},
   "source": [
    "### Creating a 2d Array"
   ]
  },
  {
   "cell_type": "code",
   "execution_count": null,
   "metadata": {},
   "outputs": [
    {
     "name": "stdout",
     "output_type": "stream",
     "text": [
      "[[ 2  4  6  8]\n",
      " [10 12 14 16]\n",
      " [18 20 22 24]]\n"
     ]
    }
   ],
   "source": [
    "arr2d=np.array([[1,2,3,4],[5,6,7,8],[9,10,11,12]])\n",
    "print(arr2d*2) # Can even perform operations on each element. Is treated as a matrix"
   ]
  },
  {
   "cell_type": "markdown",
   "metadata": {},
   "source": [
    "### Conversion and dtype of array"
   ]
  },
  {
   "cell_type": "code",
   "execution_count": 13,
   "metadata": {},
   "outputs": [
    {
     "name": "stdout",
     "output_type": "stream",
     "text": [
      "['1' '1.5' 'hello']\n",
      "[100 200 300]\n",
      "['100' '200.5' '300']\n"
     ]
    }
   ],
   "source": [
    "print(np.array([1,1.5,\"hello\"]))    \n",
    "# Follows a higherarchy and converts everything to the most complex for eg. if str present everything is str. If float is highest then everything is float\n",
    "print(np.array([100,200.5,\"300\"], dtype=int))\n",
    "# Dtype allows for conversion of all the elements to that type\n",
    "print(np.array([100,200.5,\"300\"], dtype=\"U32\"))\n",
    "# To convert to string pass 'U32' to dtype"
   ]
  },
  {
   "cell_type": "markdown",
   "metadata": {},
   "source": [
    "### Question:\n",
    "- Write a python program to perform addition of 2 3x3 matrices\n",
    "- Then take user definied input"
   ]
  },
  {
   "cell_type": "code",
   "execution_count": 7,
   "metadata": {},
   "outputs": [
    {
     "name": "stdout",
     "output_type": "stream",
     "text": [
      "[[1, 2, 3], [4, 5, 6], [7, 8, 9]]\n",
      "[[1, 2, 3], [4, 5, 6], [7, 8, 9]]\n",
      "[[ 2  4  6]\n",
      " [ 8 10 12]\n",
      " [14 16 18]]\n"
     ]
    }
   ],
   "source": [
    "def inp_arr(m,n):\n",
    "    l=[]\n",
    "    for i in range(m):\n",
    "        temp=[]\n",
    "        for j in range(n):\n",
    "            inp=int(input(f\"Enter element [{i}][{j}]: \"))\n",
    "            temp.append(inp)\n",
    "        l.append(temp)\n",
    "    arr=np.array(l,dtype=int)\n",
    "    return arr\n",
    "\n",
    "\n",
    "arr1=inp_arr(3,3)\n",
    "arr2=inp_arr(3,3)\n",
    "\n",
    "print(arr1+arr2)"
   ]
  },
  {
   "cell_type": "markdown",
   "metadata": {},
   "source": [
    "### Attributes of NumPy Array\n",
    "- `arr.ndim` - gives you the number of dimensions in an array\n",
    "- `arr.shape` - gives you a tuple containing the order\n",
    "- `arr.size` - gives you the total number of elements in an array\n",
    "- `arr.dtype` - Gives datatype of the array\n",
    "- `arr.itemsize` - Gives memory allocated to each element\n"
   ]
  },
  {
   "cell_type": "markdown",
   "metadata": {},
   "source": [
    "### Creating an array with a range\n",
    "Can use the `numpy.arange()` function"
   ]
  },
  {
   "cell_type": "code",
   "execution_count": 6,
   "metadata": {},
   "outputs": [
    {
     "data": {
      "text/plain": [
       "array([1, 2, 3, 4, 5])"
      ]
     },
     "execution_count": 6,
     "metadata": {},
     "output_type": "execute_result"
    }
   ],
   "source": [
    "arr=np.arange(1,6)\n",
    "arr"
   ]
  },
  {
   "cell_type": "markdown",
   "metadata": {},
   "source": [
    "### Indexing and Slicing\n",
    "Create a numpy array for the marks"
   ]
  },
  {
   "cell_type": "code",
   "execution_count": 5,
   "metadata": {},
   "outputs": [
    {
     "name": "stdout",
     "output_type": "stream",
     "text": [
      "[[78 67 56]\n",
      " [76 75 47]\n",
      " [84 59 60]\n",
      " [67 72 54]]\n"
     ]
    }
   ],
   "source": [
    "l=[[78,67,56],[76,75,47],[84,59,60],[67,72,54]]\n",
    "\n",
    "marks=np.array(l)\n",
    "print(marks)"
   ]
  },
  {
   "cell_type": "markdown",
   "metadata": {},
   "source": [
    "### Sum of arrays\n",
    "`np.sum()` can be used to get sum of all elements\n",
    "you can also specific axis = 0 or 1 in order to get column wise or row wise respectively"
   ]
  },
  {
   "cell_type": "markdown",
   "metadata": {},
   "source": [
    "### Slicing\n",
    "- Create an array of 9 numbers"
   ]
  },
  {
   "cell_type": "code",
   "execution_count": 7,
   "metadata": {},
   "outputs": [
    {
     "name": "stdout",
     "output_type": "stream",
     "text": [
      "[2 5 8]\n"
     ]
    }
   ],
   "source": [
    "arr=np.array([[1,2,3],[4,5,6],[7,8,9]])\n",
    "print(arr[0:3,1])"
   ]
  },
  {
   "cell_type": "code",
   "execution_count": 8,
   "metadata": {},
   "outputs": [
    {
     "name": "stdout",
     "output_type": "stream",
     "text": [
      "[ 2  4  4  6  8  8 10]\n"
     ]
    }
   ],
   "source": [
    "arr=np.array([[1,2,3,4,5],[4,5,6,7,8],[7,8,9,10,11]])\n",
    "print(arr[arr%2==0])"
   ]
  },
  {
   "cell_type": "code",
   "execution_count": null,
   "metadata": {},
   "outputs": [],
   "source": []
  }
 ],
 "metadata": {
  "kernelspec": {
   "display_name": "Python 3",
   "language": "python",
   "name": "python3"
  },
  "language_info": {
   "codemirror_mode": {
    "name": "ipython",
    "version": 3
   },
   "file_extension": ".py",
   "mimetype": "text/x-python",
   "name": "python",
   "nbconvert_exporter": "python",
   "pygments_lexer": "ipython3",
   "version": "3.12.1"
  }
 },
 "nbformat": 4,
 "nbformat_minor": 2
}
