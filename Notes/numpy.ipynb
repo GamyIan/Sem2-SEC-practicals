{
 "cells": [
  {
   "cell_type": "markdown",
   "metadata": {},
   "source": [
    "# Numpy"
   ]
  },
  {
   "cell_type": "markdown",
   "metadata": {},
   "source": [
    "### Importing and using numpy"
   ]
  },
  {
   "cell_type": "code",
   "execution_count": 2,
   "metadata": {},
   "outputs": [
    {
     "name": "stdout",
     "output_type": "stream",
     "text": [
      "[1 2 3 4]\n"
     ]
    }
   ],
   "source": [
    "import numpy as np\n",
    "\n",
    "arr=np.array([1,2,3,4])\n",
    "print(arr)"
   ]
  },
  {
   "cell_type": "markdown",
   "metadata": {},
   "source": [
    "### Creating a 2d Array"
   ]
  },
  {
   "cell_type": "code",
   "execution_count": null,
   "metadata": {},
   "outputs": [
    {
     "name": "stdout",
     "output_type": "stream",
     "text": [
      "[[ 2  4  6  8]\n",
      " [10 12 14 16]\n",
      " [18 20 22 24]]\n"
     ]
    }
   ],
   "source": [
    "arr2d=np.array([[1,2,3,4],[5,6,7,8],[9,10,11,12]])\n",
    "print(arr2d*2) # Can even perform operations on each element. Is treated as a matrix"
   ]
  },
  {
   "cell_type": "markdown",
   "metadata": {},
   "source": [
    "### Conversion and dtype of array"
   ]
  },
  {
   "cell_type": "code",
   "execution_count": 13,
   "metadata": {},
   "outputs": [
    {
     "name": "stdout",
     "output_type": "stream",
     "text": [
      "['1' '1.5' 'hello']\n",
      "[100 200 300]\n",
      "['100' '200.5' '300']\n"
     ]
    }
   ],
   "source": [
    "print(np.array([1,1.5,\"hello\"]))    \n",
    "# Follows a higherarchy and converts everything to the most complex for eg. if str present everything is str. If float is highest then everything is float\n",
    "print(np.array([100,200.5,\"300\"], dtype=int))\n",
    "# Dtype allows for conversion of all the elements to that type\n",
    "print(np.array([100,200.5,\"300\"], dtype=\"U32\"))\n",
    "# To convert to string pass 'U32' to dtype"
   ]
  },
  {
   "cell_type": "markdown",
   "metadata": {},
   "source": [
    "### Question:\n",
    "- Write a python program to perform addition of 2 3x3 matrices\n",
    "- Then take user definied input"
   ]
  },
  {
   "cell_type": "code",
   "execution_count": null,
   "metadata": {},
   "outputs": [
    {
     "name": "stdout",
     "output_type": "stream",
     "text": [
      "[[ 3  5  7]\n",
      " [ 9 11 13]\n",
      " [15 17  9]]\n"
     ]
    }
   ],
   "source": [
    "def inp_arr(m,n):\n",
    "    for i in range(m)\n",
    "\n",
    "\n",
    "arr1=np.array([[1,2,3],[4,5,6],[7,8,9]])\n",
    "arr2=np.array([[2,3,4],[5,6,7],[8,9,0]])\n",
    "\n",
    "print(arr1+arr2)"
   ]
  },
  {
   "cell_type": "code",
   "execution_count": null,
   "metadata": {},
   "outputs": [],
   "source": []
  }
 ],
 "metadata": {
  "kernelspec": {
   "display_name": "Python 3",
   "language": "python",
   "name": "python3"
  },
  "language_info": {
   "codemirror_mode": {
    "name": "ipython",
    "version": 3
   },
   "file_extension": ".py",
   "mimetype": "text/x-python",
   "name": "python",
   "nbconvert_exporter": "python",
   "pygments_lexer": "ipython3",
   "version": "3.12.1"
  }
 },
 "nbformat": 4,
 "nbformat_minor": 2
}
