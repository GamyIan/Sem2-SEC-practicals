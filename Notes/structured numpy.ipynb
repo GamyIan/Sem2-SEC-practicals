{
 "cells": [
  {
   "cell_type": "markdown",
   "metadata": {},
   "source": [
    "## Structured Numpy"
   ]
  },
  {
   "cell_type": "code",
   "execution_count": 1,
   "metadata": {},
   "outputs": [],
   "source": [
    "# Importing data\n",
    "import numpy as np"
   ]
  },
  {
   "cell_type": "code",
   "execution_count": 2,
   "metadata": {},
   "outputs": [
    {
     "name": "stdout",
     "output_type": "stream",
     "text": [
      "[(101, 'Widget A', 50, 10.5 , '01-01-2023')\n",
      " (102, 'Widget B', 30,  8.75, '02-01-2023')\n",
      " (103, 'Widget A', 20, 10.5 , '02-01-2023')\n",
      " (104, 'Widget C', 15, 15.2 , '03-01-2023')\n",
      " (105, 'Widget B', 40,  8.75, '03-01-2023')\n",
      " (106, 'Widget A', 25, 10.5 , '04-01-2023')\n",
      " (107, 'Widget C', 35, 15.2 , '05-01-2023')\n",
      " (108, 'Widget B', 10,  8.75, '05-01-2023')\n",
      " (109, 'Widget A', 15, 10.5 , '06-01-2023')\n",
      " (110, 'Widget C', 45, 15.2 , '06-01-2023')\n",
      " (111, 'Widget C', 40, 15.  , '06-01-2023')]\n"
     ]
    }
   ],
   "source": [
    "# Loading and printing Data\n",
    "sales_data=np.genfromtxt('order.csv',dtype=None,delimiter=',',names=True,encoding=None)\n",
    "print(sales_data)"
   ]
  },
  {
   "cell_type": "markdown",
   "metadata": {},
   "source": []
  }
 ],
 "metadata": {
  "kernelspec": {
   "display_name": "Python 3",
   "language": "python",
   "name": "python3"
  },
  "language_info": {
   "codemirror_mode": {
    "name": "ipython",
    "version": 3
   },
   "file_extension": ".py",
   "mimetype": "text/x-python",
   "name": "python",
   "nbconvert_exporter": "python",
   "pygments_lexer": "ipython3",
   "version": "3.12.1"
  }
 },
 "nbformat": 4,
 "nbformat_minor": 2
}
